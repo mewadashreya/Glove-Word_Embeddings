{
  "nbformat": 4,
  "nbformat_minor": 0,
  "metadata": {
    "colab": {
      "name": "Glove Word_Embeddings.ipynb",
      "provenance": [],
      "mount_file_id": "1bZPrpjiCmF2qnD28jG_tEY4KuXV7DbNd",
      "authorship_tag": "ABX9TyO5PasfPfcfkBIfUB7eKY/9",
      "include_colab_link": true
    },
    "kernelspec": {
      "name": "python3",
      "display_name": "Python 3"
    }
  },
  "cells": [
    {
      "cell_type": "markdown",
      "metadata": {
        "id": "view-in-github",
        "colab_type": "text"
      },
      "source": [
        "<a href=\"https://colab.research.google.com/github/mewadashreya/Glove-Word_Embeddings/blob/main/Glove_Word_Embeddings.ipynb\" target=\"_parent\"><img src=\"https://colab.research.google.com/assets/colab-badge.svg\" alt=\"Open In Colab\"/></a>"
      ]
    },
    {
      "cell_type": "code",
      "metadata": {
        "colab": {
          "base_uri": "https://localhost:8080/"
        },
        "id": "JNa3X8UU6GVh",
        "outputId": "01679ab6-c37d-4fec-bd09-4d94433b6e7e"
      },
      "source": [
        "import logging\n",
        "import re\n",
        "import numpy as np\n",
        "import pandas as pd\n",
        "from pprint import pprint\n",
        "import logging\n",
        "import datetime\n",
        "import time\n",
        "import glove\n",
        "import gensim\n",
        "import gensim.corpora as corpora\n",
        "from gensim.utils import simple_preprocess\n",
        "import spacy\n",
        "import matplotlib.pyplot as plt\n",
        "import warnings\n",
        "warnings.filterwarnings(\"ignore\",category=DeprecationWarning)\n",
        "import nltk\n",
        "nltk.download('stopwords')\n",
        "from nltk.corpus import stopwords\n",
        "import string\n",
        "stop = set(stopwords.words('english'))\n",
        "exclude = set(string.punctuation) "
      ],
      "execution_count": 17,
      "outputs": [
        {
          "output_type": "stream",
          "text": [
            "[nltk_data] Downloading package stopwords to /root/nltk_data...\n",
            "[nltk_data]   Unzipping corpora/stopwords.zip.\n"
          ],
          "name": "stdout"
        }
      ]
    },
    {
      "cell_type": "code",
      "metadata": {
        "colab": {
          "base_uri": "https://localhost:8080/"
        },
        "id": "sO5wAoWW6LZ6",
        "outputId": "20ec2cd8-0f30-4691-ee29-dc9f3ea4a807"
      },
      "source": [
        "! pip install glove_python"
      ],
      "execution_count": 6,
      "outputs": [
        {
          "output_type": "stream",
          "text": [
            "Requirement already satisfied: glove_python in /usr/local/lib/python3.6/dist-packages (0.1.0)\n",
            "Requirement already satisfied: numpy in /usr/local/lib/python3.6/dist-packages (from glove_python) (1.18.5)\n",
            "Requirement already satisfied: scipy in /usr/local/lib/python3.6/dist-packages (from glove_python) (1.4.1)\n"
          ],
          "name": "stdout"
        }
      ]
    },
    {
      "cell_type": "code",
      "metadata": {
        "id": "wzLFj2A88xR1"
      },
      "source": [
        "glove_corpus = glove.Corpus()"
      ],
      "execution_count": 7,
      "outputs": []
    },
    {
      "cell_type": "code",
      "metadata": {
        "id": "K9fpDQPCBiCs"
      },
      "source": [
        "def get_logger():\n",
        "    '''\n",
        "        credits to: https://www.kaggle.com/ogrellier/user-level-lightgbm-lb-1-4480\n",
        "    '''\n",
        "    FORMAT = '[%(levelname)s]%(asctime)s:%(name)s:%(message)s'\n",
        "    logging.basicConfig(format=FORMAT)\n",
        "    logger = logging.getLogger('main')\n",
        "    logger.setLevel(logging.DEBUG)\n",
        "    return logger\n",
        "    \n",
        "logger = get_logger()"
      ],
      "execution_count": 9,
      "outputs": []
    },
    {
      "cell_type": "code",
      "metadata": {
        "colab": {
          "base_uri": "https://localhost:8080/"
        },
        "id": "VXfUXd42B08E",
        "outputId": "b6a64354-8aea-43ea-d9e3-bf635740d1ee"
      },
      "source": [
        "logger.info('Load the data')\n",
        "df = pd.read_csv('/content/drive/MyDrive/Colab Notebooks/data/tripadvisor_hotel_reviews.csv')"
      ],
      "execution_count": 11,
      "outputs": [
        {
          "output_type": "stream",
          "text": [
            "[INFO]2020-11-23 12:16:12,824:main:Load the data\n"
          ],
          "name": "stderr"
        }
      ]
    },
    {
      "cell_type": "code",
      "metadata": {
        "colab": {
          "base_uri": "https://localhost:8080/"
        },
        "id": "w38l6f2VB5iT",
        "outputId": "1b7303cb-a2ec-4894-e1ba-32dd686bd12b"
      },
      "source": [
        "df.shape"
      ],
      "execution_count": 12,
      "outputs": [
        {
          "output_type": "execute_result",
          "data": {
            "text/plain": [
              "(20491, 2)"
            ]
          },
          "metadata": {
            "tags": []
          },
          "execution_count": 12
        }
      ]
    },
    {
      "cell_type": "code",
      "metadata": {
        "colab": {
          "base_uri": "https://localhost:8080/",
          "height": 202
        },
        "id": "2wxTu-UtCLPb",
        "outputId": "b456384b-6ae8-411a-a811-c0fc64834843"
      },
      "source": [
        "df.sample(5)"
      ],
      "execution_count": 13,
      "outputs": [
        {
          "output_type": "execute_result",
          "data": {
            "text/html": [
              "<div>\n",
              "<style scoped>\n",
              "    .dataframe tbody tr th:only-of-type {\n",
              "        vertical-align: middle;\n",
              "    }\n",
              "\n",
              "    .dataframe tbody tr th {\n",
              "        vertical-align: top;\n",
              "    }\n",
              "\n",
              "    .dataframe thead th {\n",
              "        text-align: right;\n",
              "    }\n",
              "</style>\n",
              "<table border=\"1\" class=\"dataframe\">\n",
              "  <thead>\n",
              "    <tr style=\"text-align: right;\">\n",
              "      <th></th>\n",
              "      <th>Review</th>\n",
              "      <th>Rating</th>\n",
              "    </tr>\n",
              "  </thead>\n",
              "  <tbody>\n",
              "    <tr>\n",
              "      <th>261</th>\n",
              "      <td>basic hotel basic needs hotel perfect young tr...</td>\n",
              "      <td>2</td>\n",
              "    </tr>\n",
              "    <tr>\n",
              "      <th>8278</th>\n",
              "      <td>visited stayed hesperia sant joan 2006 concern...</td>\n",
              "      <td>5</td>\n",
              "    </tr>\n",
              "    <tr>\n",
              "      <th>6851</th>\n",
              "      <td>excellence excellent just retruned delightful ...</td>\n",
              "      <td>5</td>\n",
              "    </tr>\n",
              "    <tr>\n",
              "      <th>2996</th>\n",
              "      <td>save money mexico save money, spent week janua...</td>\n",
              "      <td>1</td>\n",
              "    </tr>\n",
              "    <tr>\n",
              "      <th>13193</th>\n",
              "      <td>absolutely splendid overall nicest hotel staye...</td>\n",
              "      <td>5</td>\n",
              "    </tr>\n",
              "  </tbody>\n",
              "</table>\n",
              "</div>"
            ],
            "text/plain": [
              "                                                  Review  Rating\n",
              "261    basic hotel basic needs hotel perfect young tr...       2\n",
              "8278   visited stayed hesperia sant joan 2006 concern...       5\n",
              "6851   excellence excellent just retruned delightful ...       5\n",
              "2996   save money mexico save money, spent week janua...       1\n",
              "13193  absolutely splendid overall nicest hotel staye...       5"
            ]
          },
          "metadata": {
            "tags": []
          },
          "execution_count": 13
        }
      ]
    },
    {
      "cell_type": "code",
      "metadata": {
        "colab": {
          "base_uri": "https://localhost:8080/"
        },
        "id": "qWuWEDlbCNfy",
        "outputId": "4ee4ab5c-1ce7-4fd6-db7f-0ca9c7a9bd9a"
      },
      "source": [
        "logger.info('data preprocessing')\n",
        "def clean(doc):\n",
        "    stop_free = \" \".join([i for i in doc.lower().split() if i not in (stop)])\n",
        "    punc_free = ''.join(ch for ch in stop_free if ch not in exclude)\n",
        "    more_than_4letters = ' '.join(word for word in punc_free.split() if len(word)>4)\n",
        "    return more_than_4letters\n",
        "logger.info('data preprocessing')\n",
        "def sent_to_words(sentences):\n",
        "    for sent in sentences:\n",
        "        sent = re.sub(\"[^a-zA-Z]\", \" \", str(sent)) \n",
        "        sent = re.sub('\\S*@\\S*\\s?', '', sent)  # remove emails\n",
        "        sent = re.sub('\\s+', ' ', sent)  # remove newline chars\n",
        "        sent = re.sub(\"\\'\", \"\", sent)  # remove single quotes\n",
        "        yield(sent) "
      ],
      "execution_count": 14,
      "outputs": [
        {
          "output_type": "stream",
          "text": [
            "[INFO]2020-11-23 12:16:55,240:main:data preprocessing\n",
            "[INFO]2020-11-23 12:16:55,242:main:data preprocessing\n"
          ],
          "name": "stderr"
        }
      ]
    },
    {
      "cell_type": "code",
      "metadata": {
        "id": "LAzcPuHECRXF"
      },
      "source": [
        "data = df.Review.values.tolist()\n",
        "data_words = sent_to_words(data)\n",
        "data_ready = [clean(doc).split() for doc in data_words]"
      ],
      "execution_count": 18,
      "outputs": []
    },
    {
      "cell_type": "code",
      "metadata": {
        "colab": {
          "base_uri": "https://localhost:8080/"
        },
        "id": "06fw7AFSCT2m",
        "outputId": "9beb108a-9b4c-4ed7-b857-7e84c77f8442"
      },
      "source": [
        "logger.info('data preprocessing')\n",
        "def process_words(texts, allowed_postags=['NOUN', 'ADJ', 'VERB', 'ADV']):\n",
        "    \n",
        "    nlp = spacy.load('en', disable=['parser', 'ner'])\n",
        "    texts_out = []\n",
        "    for sent in data_ready:\n",
        "        doc = nlp(\" \".join(sent)) \n",
        "        texts_out.append([token.lemma_ for token in doc if token.pos_ in allowed_postags])   \n",
        "    return texts_out\n",
        "\n",
        "data_ready = process_words(data_words)"
      ],
      "execution_count": 19,
      "outputs": [
        {
          "output_type": "stream",
          "text": [
            "[INFO]2020-11-23 12:18:15,683:main:data preprocessing\n"
          ],
          "name": "stderr"
        }
      ]
    },
    {
      "cell_type": "code",
      "metadata": {
        "id": "2j_z0lfcClAh"
      },
      "source": [
        "\n",
        "# Fit the co-occurrence matrix using a sliding window of 10 words.\n",
        "t0 = time.time()\n",
        "glove_corpus.fit(data_ready, window=10)"
      ],
      "execution_count": 20,
      "outputs": []
    },
    {
      "cell_type": "code",
      "metadata": {
        "colab": {
          "base_uri": "https://localhost:8080/"
        },
        "id": "Ki8VxDR4DHlH",
        "outputId": "a25205ca-3b76-4008-c46b-8ccc07122b42"
      },
      "source": [
        "print(\"Dictionary length=%d\" % (len(glove_corpus.dictionary),))\n",
        "print(\"Co-occurrence calculated in %5.1fsec\" % (time.time()-t0, ))"
      ],
      "execution_count": 21,
      "outputs": [
        {
          "output_type": "stream",
          "text": [
            "Dictionary length=28216\n",
            "Co-occurrence calculated in  10.1sec\n"
          ],
          "name": "stdout"
        }
      ]
    },
    {
      "cell_type": "code",
      "metadata": {
        "colab": {
          "base_uri": "https://localhost:8080/"
        },
        "id": "ek9xuFygDKCI",
        "outputId": "7d7cf583-96f7-4333-fc71-e23a936e4732"
      },
      "source": [
        "glove_corpus.dictionary['city']"
      ],
      "execution_count": 22,
      "outputs": [
        {
          "output_type": "execute_result",
          "data": {
            "text/plain": [
              "573"
            ]
          },
          "metadata": {
            "tags": []
          },
          "execution_count": 22
        }
      ]
    },
    {
      "cell_type": "code",
      "metadata": {
        "colab": {
          "base_uri": "https://localhost:8080/"
        },
        "id": "CnnGbWedDPuz",
        "outputId": "6f7ffd3e-8456-458b-82a9-7ea675e8d591"
      },
      "source": [
        "SENTENCE_LENGTH_MAX = 32\n",
        "EMBEDDING_DIM=50\n",
        "word_embedding = glove.Glove(no_components=EMBEDDING_DIM, learning_rate=0.05)\n",
        "\n",
        "t0 = time.time()\n",
        "glove_epochs, glove_threads = 20, 7 \n",
        "\n",
        "word_embedding.fit(glove_corpus.matrix, epochs=glove_epochs, no_threads=glove_threads, verbose=True)\n",
        "\n",
        "print(\"%d-d word-embedding created in %5.1fsec = %5.1fsec per epoch\" % (\n",
        "        EMBEDDING_DIM, (time.time()-t0), (time.time()-t0)/glove_epochs*glove_threads, ))\n",
        "\n",
        "# Add the word -> id dictionary to the model to allow similarity queries.\n",
        "word_embedding.add_dictionary(glove_corpus.dictionary)"
      ],
      "execution_count": 30,
      "outputs": [
        {
          "output_type": "stream",
          "text": [
            "Performing 20 training epochs with 7 threads\n",
            "Epoch 0\n",
            "Epoch 1\n",
            "Epoch 2\n",
            "Epoch 3\n",
            "Epoch 4\n",
            "Epoch 5\n",
            "Epoch 6\n",
            "Epoch 7\n",
            "Epoch 8\n",
            "Epoch 9\n",
            "Epoch 10\n",
            "Epoch 11\n",
            "Epoch 12\n",
            "Epoch 13\n",
            "Epoch 14\n",
            "Epoch 15\n",
            "Epoch 16\n",
            "Epoch 17\n",
            "Epoch 18\n",
            "Epoch 19\n",
            "50-d word-embedding created in  53.8sec =  18.8sec per epoch\n"
          ],
          "name": "stdout"
        }
      ]
    },
    {
      "cell_type": "code",
      "metadata": {
        "colab": {
          "base_uri": "https://localhost:8080/"
        },
        "id": "qksiT_t_D0Ua",
        "outputId": "472d28b0-fcf7-4108-8f30-74ce898e284b"
      },
      "source": [
        "word_embedding.most_similar('hotel')\n",
        "print(\"Co-occurrence calculated in %5.1fsec\" % (time.time()-t0, ))"
      ],
      "execution_count": 31,
      "outputs": [
        {
          "output_type": "execute_result",
          "data": {
            "text/plain": [
              "[('remind', 0.8750900815488141),\n",
              " ('absolute', 0.8375983316564113),\n",
              " ('apart', 0.835686537220129),\n",
              " ('however', 0.8335667362385206)]"
            ]
          },
          "metadata": {
            "tags": []
          },
          "execution_count": 31
        }
      ]
    },
    {
      "cell_type": "code",
      "metadata": {
        "colab": {
          "base_uri": "https://localhost:8080/"
        },
        "id": "GJUtqSmYE_nN",
        "outputId": "ed61d53f-28a0-44ad-96d7-a15cad350393"
      },
      "source": [
        "word_embedding.most_similar('room')"
      ],
      "execution_count": 33,
      "outputs": [
        {
          "output_type": "execute_result",
          "data": {
            "text/plain": [
              "[('appear', 0.9143897810871614),\n",
              " ('spacious', 0.8795454449018199),\n",
              " ('complete', 0.8723709095732082),\n",
              " ('condition', 0.8711569416375088)]"
            ]
          },
          "metadata": {
            "tags": []
          },
          "execution_count": 33
        }
      ]
    },
    {
      "cell_type": "code",
      "metadata": {
        "colab": {
          "base_uri": "https://localhost:8080/"
        },
        "id": "d_ei69tkFPvL",
        "outputId": "44f4093e-c4bd-4f94-ccb8-a0cb982f053e"
      },
      "source": [
        "word_embedding.most_similar('price')"
      ],
      "execution_count": 34,
      "outputs": [
        {
          "output_type": "execute_result",
          "data": {
            "text/plain": [
              "[('reasonable', 0.9727740476397334),\n",
              " ('reasonably', 0.9366859659124736),\n",
              " ('cheap', 0.9275472933804338),\n",
              " ('rate', 0.9018685429047111)]"
            ]
          },
          "metadata": {
            "tags": []
          },
          "execution_count": 34
        }
      ]
    },
    {
      "cell_type": "code",
      "metadata": {
        "colab": {
          "base_uri": "https://localhost:8080/"
        },
        "id": "lKyAkveMFsw9",
        "outputId": "e18779fd-53c1-46af-9dd9-0f21d803636d"
      },
      "source": [
        "word_embedding.most_similar('location')"
      ],
      "execution_count": 35,
      "outputs": [
        {
          "output_type": "execute_result",
          "data": {
            "text/plain": [
              "[('convenient', 0.9225870918038449),\n",
              " ('ideal', 0.9218977304189205),\n",
              " ('central', 0.9075697463116943),\n",
              " ('brilliant', 0.9038673333139456)]"
            ]
          },
          "metadata": {
            "tags": []
          },
          "execution_count": 35
        }
      ]
    },
    {
      "cell_type": "code",
      "metadata": {
        "id": "mfXzyiY_FvtF"
      },
      "source": [
        ""
      ],
      "execution_count": null,
      "outputs": []
    }
  ]
}